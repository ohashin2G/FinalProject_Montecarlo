{
 "cells": [
  {
   "cell_type": "markdown",
   "metadata": {},
   "source": [
    "# Metadata\n",
    "\n",
    "* Title: **Final Project Report**\n",
    "* Class:    DS 5100\n",
    "* Date:     May 2, 2023\n",
    "* Student Name:     Naomi Ohashi\n",
    "* Student Net ID:   fju4ek\n",
    "* This URL: <a URL to the notebook source of this document>\n",
    "* GitHub Repo URL:  https://github.com/ohashin2G/FinalProject_Montecarlo"
   ]
  },
  {
   "cell_type": "markdown",
   "metadata": {},
   "source": [
    "# The Monte Carlo Module"
   ]
  },
  {
   "cell_type": "code",
   "execution_count": null,
   "metadata": {},
   "outputs": [],
   "source": [
    "### Import class dependencies here\n",
    "\n",
    "import pandas as pd\n",
    "import numpy as np\n",
    "import random\n",
    "\n",
    "## The Die class\n",
    "\n",
    "\"\"\"\n",
    "        A die has N sides, or “faces”, and W weights, and can be rolled to select a face.\n",
    "        - W defaults to 1.0 for each face but can be changed after the object is created.\n",
    "        - Note that the weights are just numbers, not a normalized probability distribution.\n",
    "        - The die has one behavior, which is to be rolled one or more times.\n",
    "        - Note that what we are calling a “die” here can be any discrete random variable associated \n",
    "          with a stochastic process, such as using a deck of cards or flipping a coin or speaking a language.\n",
    "\"\"\"\n",
    "\n",
    "class Die(): \n",
    "\n",
    "    sides = []\n",
    "    weights = []\n",
    "\n",
    "        # Initializer \n",
    "    def __init__(self, sides):\n",
    "        self.sides = sides\n",
    "        self.weights = [1.0 for i in self.sides]\n",
    "        self.die = pd.DataFrame({\n",
    "            'sides': self.sides,\n",
    "            'weights': self.weights\n",
    "        })\n",
    "\n",
    "        # Change the weight Method     \n",
    "    def change_weight(self, face_value, new_weight):\n",
    "        continuefacevalue = False\n",
    "        for i in self.die.sides:\n",
    "              if i == face_value:\n",
    "                continuefacevalue = True\n",
    "\n",
    "        continueweight = False\n",
    "        result = type(new_weight)\n",
    "        \n",
    "        if result == \"float\":\n",
    "              continueweight = True\n",
    "        elif result == int:\n",
    "              continueweight = True\n",
    "        else: continueweight = False\n",
    "         \n",
    "        if continuefacevalue & continueweight:\n",
    "            index = self.die.sides.index[self.die.sides == face_value].to_list()[0]\n",
    "            self.die.weights[index] = new_weight\n",
    "        else: print(\"not valid\")\n",
    "\n",
    "        # Roll the die Method\n",
    "    def roll(self, n_rolls):\n",
    "        results = []\n",
    "        for i in range(n_rolls):\n",
    "            result = self.die.sides.sample(weights=self.die.weights).values[0]\n",
    "            results.append(result)\n",
    "        self.results = pd.Series(results) \n",
    "        return(results)\n",
    "         \n",
    "        # Show Method - the die’s current set of faces and weights\n",
    "    def show(self):\n",
    "        return(self.die)\n",
    "    \n",
    "    # The Game calss\n",
    "\n",
    "        \"\"\"\n",
    "        A game consists of rolling of one or more dice of the same kind one or more times.\n",
    "\n",
    "        \"\"\"\n",
    "\n",
    "class Game():\n",
    "\n",
    "    dice = []\n",
    "    num_of_dice = 0\n",
    "    playdice = pd.DataFrame({\n",
    "        'roll_number': [],\n",
    "        'die_number': [],\n",
    "        'face_rolled': []\n",
    "        })\n",
    "\n",
    "        # Initializer\n",
    "    def __init__(self, dice):\n",
    "            self.dice = dice\n",
    "            self.num_of_dice = len(dice)\n",
    "            \n",
    "    def roll(self, times): #-> list(int):\n",
    "            myres = []\n",
    "            count = 0\n",
    "            for element in self.dice:\n",
    "              count += 1\n",
    "            for i in range (1, count+1):\n",
    "                for j in range (1, times+1):\n",
    "                    myres.append(j)\n",
    "            return myres\n",
    "    \n",
    "        # When the roll happens - return an array of Die that did the roll\n",
    "    def diceroll(self, times): # -> list(int):\n",
    "            myres = []\n",
    "            count = 0\n",
    "            for element in self.dice:\n",
    "              count += 1\n",
    "            for i in range (1, count+1):\n",
    "                for j in range (1, times+1):\n",
    "                    myres.append(i)\n",
    "            return myres\n",
    "    \n",
    "        # When the roll happens - return an array of the results of the die rolls\n",
    "    def roll_dice(self, times: int): # -> list(str | float):\n",
    "            results = []\n",
    "            for die in self.dice:\n",
    "                results.extend(die.roll(times))\n",
    "            return(results)\n",
    "    \n",
    "            # Play the game.  When this is called it sets die, roll and face values. \n",
    "    \n",
    "    def play(self, times):\n",
    "              #die_number = []\n",
    "              die_number = self.diceroll(times)\n",
    "              #roll_number = []\n",
    "              roll_number = self.roll(times)\n",
    "              #face_rolled = []\n",
    "              face_rolled = self.roll_dice(times)\n",
    "          \n",
    "              self.playdice = pd.DataFrame({\n",
    "                  'roll_number': roll_number,\n",
    "                  'die_number': die_number,\n",
    "                  'face_rolled': face_rolled\n",
    "              }).set_index('roll_number')\n",
    "\n",
    "\n",
    "            # Show the results of the game.  This can return NARROW or WIDE results. \n",
    "    def show(self,df_type):\n",
    "            continueshow = False\n",
    "            if df_type == \"NARROW\":\n",
    "                continueshow = True\n",
    "            elif df_type == \"WIDE\":\n",
    "                continueshow = True\n",
    "            if not continueshow:\n",
    "                print(\"invalid\")\n",
    "                return \n",
    "            if df_type == \"NARROW\" or df_type == \"WIDE\":            \n",
    "                #print(\"showing NARROW\")\n",
    "                NARROW = self.playdice.set_index('die_number', append = True)\n",
    "                #NARROW = pd.DataFrame(dict(self.playdice)).groupby(['die_number', 'roll_number']).face_rolled.count().to_frame('face_rolled')            \n",
    "                return NARROW if df_type == \"NARROW\" else NARROW.unstack(\"die_number\")\n",
    "\n",
    "\n",
    "            # The Analyzer class\n",
    "                \"\"\"\n",
    "                An analyzer takes the results of a single game and computes various descriptive statistical properties about it. These properties results are available as attributes of an Analyzer object.\n",
    "                \"\"\"\n",
    "\n",
    "from pandas.core.groupby import groupby\n",
    "\n",
    "class Analyzer():\n",
    " \n",
    "        #Initializer - Takes a game object as its input parameter\n",
    "    def __init__(self, game=Game) -> None:\n",
    "        self.game = game\n",
    "        self.die_face_type = type(self.game.dice)\n",
    "        self.combo_df = None\n",
    "        self.jackpot_df = None\n",
    "        self.face_counts_per_roll_df = None\n",
    "        self.num_of_dice = game.num_of_dice \n",
    "        #print('num game of dice = ', game.num_of_dice)     \n",
    "\n",
    "        #Jackpot - Compute how many times a roll resulted in all faces being the same.\n",
    "    def jackpot(self):\n",
    "     \n",
    "        occurences_df = self.game.show('NARROW') \\\n",
    "            .reset_index() \\\n",
    "            .groupby(by=['roll_number', 'face_rolled']) \\\n",
    "            .size() \\\n",
    "            .to_frame('occurences')\n",
    "        \n",
    "        self.jackpot_df = occurences_df[occurences_df['occurences'] == self.num_of_dice]\n",
    "        return self.jackpot_df.shape[0]\n",
    "       \n",
    "        #Combo - Compute how many combination types of faces were rolled and their counts.\n",
    "    def combo(self):\n",
    "        \"\"\"\n",
    "        get distinct list of WIDE results with a list\n",
    "        \"\"\"       \n",
    "        self.combo_df = self.game.show('NARROW') \\\n",
    "            .groupby(by=['roll_number']) \\\n",
    "            .agg({'face_rolled': set}) \\\n",
    "            .astype({'face_rolled': 'str'}) \\\n",
    "            .groupby('face_rolled') \\\n",
    "            .size() \\\n",
    "            .to_frame('count_row') \\\n",
    "            .sort_values('count_row', ascending=False)\n",
    "        \n",
    "      \n",
    "\n",
    "        #Face counts per roll - Compute how many times a given face is rolled in each event\n",
    "    def face_counts_per_roll(self):  \n",
    "        self.face_counts_per_roll = self.game.show('NARROW') \\\n",
    "            .reset_index() \\\n",
    "            .groupby(by=['roll_number', 'face_rolled']) \\\n",
    "            .size().unstack('face_rolled') \\\n",
    "            .fillna(0)\n",
    " \n"
   ]
  },
  {
   "cell_type": "markdown",
   "metadata": {},
   "source": [
    "# Test Module"
   ]
  },
  {
   "cell_type": "code",
   "execution_count": null,
   "metadata": {},
   "outputs": [],
   "source": [
    "import unittest\n",
    "#from montecarlo import Die, Game, Analyzer\n",
    "\n",
    "\"\"\"\n",
    "The Die class should have unit tests to test if the methods receive the correct inputs and return valid outputs.\n",
    "\"\"\"\n",
    "\n",
    "        #Checks to see if the face passed is valid; is it in the array of weights? \n",
    "class DieTestSuite(unittest.TestCase):\n",
    "    def test_1_change_weight_method(self):\n",
    "        sides = [1,2,3,4,5,6]\n",
    "        die = Die(sides)\n",
    "        die.change_weight(1, 2)\n",
    "        self.assertEqual(die.die.weights[1], 1.0)\n",
    "\n",
    "    def test_2_roll_method(self):\n",
    "        #Checks to see if the weight is valid; is it a float? Can it be converted to one?\n",
    "        sides = [1,2,3,4,5,6]\n",
    "        die = Die(sides)\n",
    "        results = die.roll(1) \n",
    "        self.assertNotEqual(results, '')\n",
    "\n",
    "    def test_3_show_method(self):\n",
    "        #Checks to see if the weight is valid; is it a float? Can it be converted to one?\n",
    "            sides = [1,2,3,4,5,6]\n",
    "            die = Die(sides)\n",
    "            die.roll(1) \n",
    "            result = die.show()\n",
    "            self.assertTrue(result.count)\n",
    "\n",
    "        \n",
    "class GameTestSuite(unittest.TestCase):\n",
    "        \n",
    "        \"\"\"\n",
    "        The Game class should have unit tests to test if the methods \n",
    "        receive the correct inputs and return valid outputs.\n",
    "        \"\"\"\n",
    "        sides = [1,2,3,4,5,6]\n",
    "        die = Die(sides)\n",
    "        die2 = Die(sides)\n",
    "        List = [die, die2]\n",
    "        g1 = Game(List)\n",
    "    \n",
    "        def test_1_game_roll_method(self):\n",
    "            self.assertTrue(self.g1.roll(1))\n",
    "            #Checks to see if how many times the dice should be rolled.\n",
    "    \n",
    "        def test_2_dice_roll_method(self):\n",
    "            #Checks to see if how many times the dice should be rolled per roll.\n",
    "            self.assertTrue(self.g1.diceroll(1))\n",
    "    \n",
    "        def test_roll_dice_method(self):\n",
    "            #Checks to see if how many times the die rolls.\n",
    "            self.assertTrue(self.g1.roll_dice(1))\n",
    "    \n",
    "        def test_play_method(self):\n",
    "            #Checks to see if how many times the die rolled.\n",
    "            self.assertFalse(self.g1.play(1))  \n",
    "    \n",
    "        def test_show_method(self):\n",
    "            #Checks to see if it passed the private dataframe to the user.\n",
    "            test = self.g1.show('NARROW')\n",
    "            pd.testing.assert_frame_equal(test, self.g1.show('NARROW'))\n",
    "            #self.assertFalse(self.g1.show('NARROW').all())        \n",
    "\n",
    "class AnalyzerTestSuite(unittest.TestCase):\n",
    "\n",
    "        \"\"\"\n",
    "        The Analyzer class should have unit tests to test if the methods \n",
    "        receive the correct inputs and return valid outputs.\n",
    "        \"\"\"\n",
    "\n",
    "        sides = [1,2,3,4,5,6]\n",
    "        die = Die(sides)\n",
    "        die2 = Die(sides)\n",
    "        List = [die, die2]\n",
    "        g1 = Game(List)\n",
    "        A1 = Analyzer(g1)\n",
    "\n",
    "        def test_jackpot_method(self):\n",
    "        #Check to see if it returns an integer for the number times to the user\n",
    "            self.assertFalse(self.A1.jackpot())\n",
    "\n",
    "        def test_combo_method(self):\n",
    "        #Check to see if Combinations were sorted and saved as a multicolumned index.    \n",
    "            self.assertFalse(self.A1.combo())\n",
    "\n",
    "        def test_face_counts_method(self):\n",
    "        #Check to see if The dataframe has an index of the roll number and face values as columns.    \n",
    "            self.assertFalse(self.A1.face_counts_per_roll())\n",
    "\n",
    "    \n",
    "if __name__ == '__main__':\n",
    "    unittest.main(argv=['first-arg-is-ignored'], exit=False)\n"
   ]
  },
  {
   "cell_type": "code",
   "execution_count": null,
   "metadata": {},
   "outputs": [],
   "source": [
    "#!ls\n",
    "!python montecarlo_test.py 2> montecarlo_results.txt"
   ]
  },
  {
   "cell_type": "markdown",
   "metadata": {},
   "source": [
    "# Test Results"
   ]
  },
  {
   "cell_type": "code",
   "execution_count": null,
   "metadata": {},
   "outputs": [],
   "source": [
    "PS C:\\Repos\\ds5100_repos\\Final Project> & C:/Users/n_oha/AppData/Local/Programs/Python/Python311/python.exe \"c:/Repos/ds5100_repos/Final Project/montecarlo_test.py\"\n",
    "test_combo_method (__main__.AnalyzerTestSuite.test_combo_method) ... ok\n",
    "test_face_counts_method (__main__.AnalyzerTestSuite.test_face_counts_method) ... ok\n",
    "test_jackpot_method (__main__.AnalyzerTestSuite.test_jackpot_method) ... ok\n",
    "test_1_change_weight_method (__main__.DieTestSuite.test_1_change_weight_method) ... c:\\Repos\\ds5100_repos\\Final Project\\montecarlo.py:49: SettingWithCopyWarning: \n",
    "A value is trying to be set on a copy of a slice from a DataFrame\n",
    "\n",
    "See the caveats in the documentation: https://pandas.pydata.org/pandas-docs/stable/user_guide/indexing.html#returning-a-view-versus-a-copy\n",
    "  self.die.weights[index] = new_weight\n",
    "ok\n",
    "test_2_roll_method (__main__.DieTestSuite.test_2_roll_method) ... ok\n",
    "test_3_show_method (__main__.DieTestSuite.test_3_show_method) ... ok\n",
    "test_1_game_roll_method (__main__.GameTestSuite.test_1_game_roll_method) ... ok\n",
    "test_2_dice_roll_method (__main__.GameTestSuite.test_2_dice_roll_method) ... ok\n",
    "test_play_method (__main__.GameTestSuite.test_play_method) ... ok\n",
    "test_roll_dice_method (__main__.GameTestSuite.test_roll_dice_method) ... ok\n",
    "test_show_method (__main__.GameTestSuite.test_show_method) ... ok\n",
    "\n",
    "----------------------------------------------------------------------\n",
    "Ran 11 tests in 0.079s\n",
    "\n",
    "OK\n",
    "PS C:\\Repos\\ds5100_repos\\Final Project>"
   ]
  },
  {
   "cell_type": "markdown",
   "metadata": {},
   "source": [
    "# Scenarios\n",
    "\n",
    "Code blocks with your scenarios and their outputs. \n",
    "\n",
    "These should have appropriate import statements even though the code is now in the same notebook as the classes it calls. "
   ]
  },
  {
   "cell_type": "code",
   "execution_count": 59,
   "metadata": {},
   "outputs": [],
   "source": [
    "# Import dependencies here\n",
    "import pandas as pd\n",
    "import numpy as np\n",
    "import matplotlib.pyplot as plt\n",
    "\n",
    "#from montecarlo.montecarlo.py import Die, Game, Analyzer"
   ]
  },
  {
   "cell_type": "code",
   "execution_count": 60,
   "metadata": {},
   "outputs": [
    {
     "name": "stdout",
     "output_type": "stream",
     "text": [
      "frequency of letters.csv  montecarlo_results.txt     setup.py\n",
      "\u001b[0m\u001b[01;34mmontecarlo\u001b[0m/               montecarlo_test.py\n",
      "montecarlo_demo.ipynb     \u001b[01;34mProject_Package.egg-info\u001b[0m/\n"
     ]
    }
   ],
   "source": [
    "ls"
   ]
  },
  {
   "cell_type": "markdown",
   "metadata": {},
   "source": [
    "## Scenario 1: A 2-headed coin"
   ]
  },
  {
   "cell_type": "code",
   "execution_count": null,
   "metadata": {},
   "outputs": [],
   "source": [
    "    ## 1. Create a fair coin (with faces H and T) and one unfair coin, in which one of the faces has a weight of 5 and the others 1.\n",
    "coin_faces = ['H', 'T']\n",
    "fair_coin = Die(coin_faces)\n",
    "unfair_coin = Die(coin_faces)\n",
    "unfair_coin.change_weight('H', 5)"
   ]
  },
  {
   "cell_type": "code",
   "execution_count": 63,
   "metadata": {},
   "outputs": [
    {
     "data": {
      "text/html": [
       "<div>\n",
       "<style scoped>\n",
       "    .dataframe tbody tr th:only-of-type {\n",
       "        vertical-align: middle;\n",
       "    }\n",
       "\n",
       "    .dataframe tbody tr th {\n",
       "        vertical-align: top;\n",
       "    }\n",
       "\n",
       "    .dataframe thead th {\n",
       "        text-align: right;\n",
       "    }\n",
       "</style>\n",
       "<table border=\"1\" class=\"dataframe\">\n",
       "  <thead>\n",
       "    <tr style=\"text-align: right;\">\n",
       "      <th></th>\n",
       "      <th></th>\n",
       "      <th>face_rolled</th>\n",
       "    </tr>\n",
       "    <tr>\n",
       "      <th>roll_number</th>\n",
       "      <th>die_number</th>\n",
       "      <th></th>\n",
       "    </tr>\n",
       "  </thead>\n",
       "  <tbody>\n",
       "    <tr>\n",
       "      <th>1</th>\n",
       "      <th>1</th>\n",
       "      <td>H</td>\n",
       "    </tr>\n",
       "    <tr>\n",
       "      <th>2</th>\n",
       "      <th>1</th>\n",
       "      <td>T</td>\n",
       "    </tr>\n",
       "    <tr>\n",
       "      <th>3</th>\n",
       "      <th>1</th>\n",
       "      <td>H</td>\n",
       "    </tr>\n",
       "    <tr>\n",
       "      <th>4</th>\n",
       "      <th>1</th>\n",
       "      <td>H</td>\n",
       "    </tr>\n",
       "    <tr>\n",
       "      <th>5</th>\n",
       "      <th>1</th>\n",
       "      <td>H</td>\n",
       "    </tr>\n",
       "    <tr>\n",
       "      <th>...</th>\n",
       "      <th>...</th>\n",
       "      <td>...</td>\n",
       "    </tr>\n",
       "    <tr>\n",
       "      <th>996</th>\n",
       "      <th>3</th>\n",
       "      <td>T</td>\n",
       "    </tr>\n",
       "    <tr>\n",
       "      <th>997</th>\n",
       "      <th>3</th>\n",
       "      <td>T</td>\n",
       "    </tr>\n",
       "    <tr>\n",
       "      <th>998</th>\n",
       "      <th>3</th>\n",
       "      <td>T</td>\n",
       "    </tr>\n",
       "    <tr>\n",
       "      <th>999</th>\n",
       "      <th>3</th>\n",
       "      <td>T</td>\n",
       "    </tr>\n",
       "    <tr>\n",
       "      <th>1000</th>\n",
       "      <th>3</th>\n",
       "      <td>T</td>\n",
       "    </tr>\n",
       "  </tbody>\n",
       "</table>\n",
       "<p>3000 rows × 1 columns</p>\n",
       "</div>"
      ],
      "text/plain": [
       "                       face_rolled\n",
       "roll_number die_number            \n",
       "1           1                    H\n",
       "2           1                    T\n",
       "3           1                    H\n",
       "4           1                    H\n",
       "5           1                    H\n",
       "...                            ...\n",
       "996         3                    T\n",
       "997         3                    T\n",
       "998         3                    T\n",
       "999         3                    T\n",
       "1000        3                    T\n",
       "\n",
       "[3000 rows x 1 columns]"
      ]
     },
     "execution_count": 63,
     "metadata": {},
     "output_type": "execute_result"
    }
   ],
   "source": [
    "    ## 2. Play a game of 10000 rolls with all fair dice.\n",
    "S1n = 1000\n",
    "G1 = Game([fair_coin, fair_coin, fair_coin])\n",
    "G1.play(S1n)\n",
    "G1.show('NARROW')"
   ]
  },
  {
   "cell_type": "code",
   "execution_count": 64,
   "metadata": {},
   "outputs": [
    {
     "data": {
      "text/html": [
       "<div>\n",
       "<style scoped>\n",
       "    .dataframe tbody tr th:only-of-type {\n",
       "        vertical-align: middle;\n",
       "    }\n",
       "\n",
       "    .dataframe tbody tr th {\n",
       "        vertical-align: top;\n",
       "    }\n",
       "\n",
       "    .dataframe thead th {\n",
       "        text-align: right;\n",
       "    }\n",
       "</style>\n",
       "<table border=\"1\" class=\"dataframe\">\n",
       "  <thead>\n",
       "    <tr style=\"text-align: right;\">\n",
       "      <th></th>\n",
       "      <th></th>\n",
       "      <th>face_rolled</th>\n",
       "    </tr>\n",
       "    <tr>\n",
       "      <th>roll_number</th>\n",
       "      <th>die_number</th>\n",
       "      <th></th>\n",
       "    </tr>\n",
       "  </thead>\n",
       "  <tbody>\n",
       "    <tr>\n",
       "      <th>1</th>\n",
       "      <th>1</th>\n",
       "      <td>T</td>\n",
       "    </tr>\n",
       "    <tr>\n",
       "      <th>2</th>\n",
       "      <th>1</th>\n",
       "      <td>H</td>\n",
       "    </tr>\n",
       "    <tr>\n",
       "      <th>3</th>\n",
       "      <th>1</th>\n",
       "      <td>T</td>\n",
       "    </tr>\n",
       "    <tr>\n",
       "      <th>4</th>\n",
       "      <th>1</th>\n",
       "      <td>H</td>\n",
       "    </tr>\n",
       "    <tr>\n",
       "      <th>5</th>\n",
       "      <th>1</th>\n",
       "      <td>H</td>\n",
       "    </tr>\n",
       "    <tr>\n",
       "      <th>...</th>\n",
       "      <th>...</th>\n",
       "      <td>...</td>\n",
       "    </tr>\n",
       "    <tr>\n",
       "      <th>996</th>\n",
       "      <th>3</th>\n",
       "      <td>H</td>\n",
       "    </tr>\n",
       "    <tr>\n",
       "      <th>997</th>\n",
       "      <th>3</th>\n",
       "      <td>H</td>\n",
       "    </tr>\n",
       "    <tr>\n",
       "      <th>998</th>\n",
       "      <th>3</th>\n",
       "      <td>H</td>\n",
       "    </tr>\n",
       "    <tr>\n",
       "      <th>999</th>\n",
       "      <th>3</th>\n",
       "      <td>H</td>\n",
       "    </tr>\n",
       "    <tr>\n",
       "      <th>1000</th>\n",
       "      <th>3</th>\n",
       "      <td>H</td>\n",
       "    </tr>\n",
       "  </tbody>\n",
       "</table>\n",
       "<p>3000 rows × 1 columns</p>\n",
       "</div>"
      ],
      "text/plain": [
       "                       face_rolled\n",
       "roll_number die_number            \n",
       "1           1                    T\n",
       "2           1                    H\n",
       "3           1                    T\n",
       "4           1                    H\n",
       "5           1                    H\n",
       "...                            ...\n",
       "996         3                    H\n",
       "997         3                    H\n",
       "998         3                    H\n",
       "999         3                    H\n",
       "1000        3                    H\n",
       "\n",
       "[3000 rows x 1 columns]"
      ]
     },
     "execution_count": 64,
     "metadata": {},
     "output_type": "execute_result"
    }
   ],
   "source": [
    "    ##  3. Play a game of 1000 flips with two unfair dice and one fair die.\n",
    "G2 = Game([fair_coin, fair_coin, unfair_coin])\n",
    "G2.play(S1n)\n",
    "G2.show('NARROW')"
   ]
  },
  {
   "cell_type": "code",
   "execution_count": 65,
   "metadata": {},
   "outputs": [
    {
     "data": {
      "text/plain": [
       "256"
      ]
     },
     "execution_count": 65,
     "metadata": {},
     "output_type": "execute_result"
    }
   ],
   "source": [
    "    ## 4. For each game, use an Analyzer object to determine the relative frequency of jackpots - getting either all Hs or all Ts.\n",
    "A1 = Analyzer(G2)\n",
    "A1.jackpot()"
   ]
  },
  {
   "cell_type": "code",
   "execution_count": 66,
   "metadata": {},
   "outputs": [],
   "source": [
    "    ## 5. Compute relative frequency as the number of jackpots over the total number of rolls.\n",
    "unfair = A1.jackpot()/1000"
   ]
  },
  {
   "cell_type": "code",
   "execution_count": 73,
   "metadata": {},
   "outputs": [
    {
     "data": {
      "image/png": "[encoded data removed]",
      "text/plain": [
       "<Figure size 432x288 with 1 Axes>"
      ]
     },
     "metadata": {
      "needs_background": "light"
     },
     "output_type": "display_data"
    }
   ],
   "source": [
    "    ## 6. Show your results, comparing the two relative frequencies, in a simple bar chart. (**Works on VS code and Google Colab)\n",
    "plt.style.use('_mpl-gallery')\n",
    "A2 = Analyzer(G1)\n",
    "A2.jackpot()\n",
    "fair = A2.jackpot()/1000\n",
    "\n",
    "objects = [fair, unfair]\n",
    "y_frequencies = np.arange(len(objects))\n",
    "jackpot_results = [fair, unfair]\n",
    "\n",
    "plt.bar(y_frequencies, jackpot_results, align='center', alpha=0.5)\n",
    "plt.xticks(y_frequencies, objects)\n",
    "plt.xlabel('Jackpots')\n",
    "plt.ylabel('Frequencies')\n",
    "plt.title('Comparing the two frequencies of jackpot, n = 1000')\n",
    "plt.show()"
   ]
  },
  {
   "cell_type": "markdown",
   "metadata": {},
   "source": [
    "## Scenario 2: A 6-sided die"
   ]
  },
  {
   "cell_type": "code",
   "execution_count": null,
   "metadata": {},
   "outputs": [],
   "source": [
    "## 1. Create a fair die and two unfair dice, all of six sides with the faces 1 through 6. (**Works on VS code and Google Colab)\n",
    "die_faces = [1,2,3,4,5,6]\n",
    "fair_die = Die(die_faces)\n",
    "Type_1_unfair = Die(die_faces)\n",
    "Type_1_unfair.change_weight(6,5)\n",
    "Type_2_unfair = Die(die_faces)\n",
    "Type_2_unfair.change_weight(1,5)"
   ]
  },
  {
   "cell_type": "code",
   "execution_count": 74,
   "metadata": {},
   "outputs": [
    {
     "data": {
      "text/html": [
       "<div>\n",
       "<style scoped>\n",
       "    .dataframe tbody tr th:only-of-type {\n",
       "        vertical-align: middle;\n",
       "    }\n",
       "\n",
       "    .dataframe tbody tr th {\n",
       "        vertical-align: top;\n",
       "    }\n",
       "\n",
       "    .dataframe thead th {\n",
       "        text-align: right;\n",
       "    }\n",
       "</style>\n",
       "<table border=\"1\" class=\"dataframe\">\n",
       "  <thead>\n",
       "    <tr style=\"text-align: right;\">\n",
       "      <th></th>\n",
       "      <th></th>\n",
       "      <th>face_rolled</th>\n",
       "    </tr>\n",
       "    <tr>\n",
       "      <th>roll_number</th>\n",
       "      <th>die_number</th>\n",
       "      <th></th>\n",
       "    </tr>\n",
       "  </thead>\n",
       "  <tbody>\n",
       "    <tr>\n",
       "      <th>1</th>\n",
       "      <th>1</th>\n",
       "      <td>4</td>\n",
       "    </tr>\n",
       "    <tr>\n",
       "      <th>2</th>\n",
       "      <th>1</th>\n",
       "      <td>5</td>\n",
       "    </tr>\n",
       "    <tr>\n",
       "      <th>3</th>\n",
       "      <th>1</th>\n",
       "      <td>1</td>\n",
       "    </tr>\n",
       "    <tr>\n",
       "      <th>4</th>\n",
       "      <th>1</th>\n",
       "      <td>3</td>\n",
       "    </tr>\n",
       "    <tr>\n",
       "      <th>5</th>\n",
       "      <th>1</th>\n",
       "      <td>1</td>\n",
       "    </tr>\n",
       "    <tr>\n",
       "      <th>...</th>\n",
       "      <th>...</th>\n",
       "      <td>...</td>\n",
       "    </tr>\n",
       "    <tr>\n",
       "      <th>9996</th>\n",
       "      <th>5</th>\n",
       "      <td>6</td>\n",
       "    </tr>\n",
       "    <tr>\n",
       "      <th>9997</th>\n",
       "      <th>5</th>\n",
       "      <td>5</td>\n",
       "    </tr>\n",
       "    <tr>\n",
       "      <th>9998</th>\n",
       "      <th>5</th>\n",
       "      <td>2</td>\n",
       "    </tr>\n",
       "    <tr>\n",
       "      <th>9999</th>\n",
       "      <th>5</th>\n",
       "      <td>1</td>\n",
       "    </tr>\n",
       "    <tr>\n",
       "      <th>10000</th>\n",
       "      <th>5</th>\n",
       "      <td>5</td>\n",
       "    </tr>\n",
       "  </tbody>\n",
       "</table>\n",
       "<p>50000 rows × 1 columns</p>\n",
       "</div>"
      ],
      "text/plain": [
       "                        face_rolled\n",
       "roll_number die_number             \n",
       "1           1                     4\n",
       "2           1                     5\n",
       "3           1                     1\n",
       "4           1                     3\n",
       "5           1                     1\n",
       "...                             ...\n",
       "9996        5                     6\n",
       "9997        5                     5\n",
       "9998        5                     2\n",
       "9999        5                     1\n",
       "10000       5                     5\n",
       "\n",
       "[50000 rows x 1 columns]"
      ]
     },
     "execution_count": 74,
     "metadata": {},
     "output_type": "execute_result"
    }
   ],
   "source": [
    "## 2. Play a game of 10000 rolls with 5 fair dice\n",
    "S2n = 10000\n",
    "\n",
    "G3 = Game([fair_die, fair_die, fair_die, fair_die, fair_die])\n",
    "G3.play(S2n)\n",
    "G3.show('NARROW')"
   ]
  },
  {
   "cell_type": "code",
   "execution_count": 75,
   "metadata": {},
   "outputs": [
    {
     "data": {
      "text/html": [
       "<div>\n",
       "<style scoped>\n",
       "    .dataframe tbody tr th:only-of-type {\n",
       "        vertical-align: middle;\n",
       "    }\n",
       "\n",
       "    .dataframe tbody tr th {\n",
       "        vertical-align: top;\n",
       "    }\n",
       "\n",
       "    .dataframe thead th {\n",
       "        text-align: right;\n",
       "    }\n",
       "</style>\n",
       "<table border=\"1\" class=\"dataframe\">\n",
       "  <thead>\n",
       "    <tr style=\"text-align: right;\">\n",
       "      <th></th>\n",
       "      <th></th>\n",
       "      <th>face_rolled</th>\n",
       "    </tr>\n",
       "    <tr>\n",
       "      <th>roll_number</th>\n",
       "      <th>die_number</th>\n",
       "      <th></th>\n",
       "    </tr>\n",
       "  </thead>\n",
       "  <tbody>\n",
       "    <tr>\n",
       "      <th>1</th>\n",
       "      <th>1</th>\n",
       "      <td>6</td>\n",
       "    </tr>\n",
       "    <tr>\n",
       "      <th>2</th>\n",
       "      <th>1</th>\n",
       "      <td>6</td>\n",
       "    </tr>\n",
       "    <tr>\n",
       "      <th>3</th>\n",
       "      <th>1</th>\n",
       "      <td>6</td>\n",
       "    </tr>\n",
       "    <tr>\n",
       "      <th>4</th>\n",
       "      <th>1</th>\n",
       "      <td>2</td>\n",
       "    </tr>\n",
       "    <tr>\n",
       "      <th>5</th>\n",
       "      <th>1</th>\n",
       "      <td>5</td>\n",
       "    </tr>\n",
       "    <tr>\n",
       "      <th>...</th>\n",
       "      <th>...</th>\n",
       "      <td>...</td>\n",
       "    </tr>\n",
       "    <tr>\n",
       "      <th>9996</th>\n",
       "      <th>5</th>\n",
       "      <td>5</td>\n",
       "    </tr>\n",
       "    <tr>\n",
       "      <th>9997</th>\n",
       "      <th>5</th>\n",
       "      <td>1</td>\n",
       "    </tr>\n",
       "    <tr>\n",
       "      <th>9998</th>\n",
       "      <th>5</th>\n",
       "      <td>5</td>\n",
       "    </tr>\n",
       "    <tr>\n",
       "      <th>9999</th>\n",
       "      <th>5</th>\n",
       "      <td>3</td>\n",
       "    </tr>\n",
       "    <tr>\n",
       "      <th>10000</th>\n",
       "      <th>5</th>\n",
       "      <td>6</td>\n",
       "    </tr>\n",
       "  </tbody>\n",
       "</table>\n",
       "<p>50000 rows × 1 columns</p>\n",
       "</div>"
      ],
      "text/plain": [
       "                        face_rolled\n",
       "roll_number die_number             \n",
       "1           1                     6\n",
       "2           1                     6\n",
       "3           1                     6\n",
       "4           1                     2\n",
       "5           1                     5\n",
       "...                             ...\n",
       "9996        5                     5\n",
       "9997        5                     1\n",
       "9998        5                     5\n",
       "9999        5                     3\n",
       "10000       5                     6\n",
       "\n",
       "[50000 rows x 1 columns]"
      ]
     },
     "execution_count": 75,
     "metadata": {},
     "output_type": "execute_result"
    }
   ],
   "source": [
    "## 3. Play a game of 10000 rolls with 2 unfair dice of type 1, 1 unfair die of type 2, and the rest fair dice.\n",
    "G4 = Game([Type_1_unfair, Type_1_unfair, Type_2_unfair, fair_die, fair_die])\n",
    "G4.play(S2n)\n",
    "G4.show('NARROW')"
   ]
  },
  {
   "cell_type": "code",
   "execution_count": 71,
   "metadata": {},
   "outputs": [
    {
     "data": {
      "image/png": "[encoded data removed]",
      "text/plain": [
       "<Figure size 432x288 with 1 Axes>"
      ]
     },
     "metadata": {
      "needs_background": "light"
     },
     "output_type": "display_data"
    }
   ],
   "source": [
    "## 4. For each game, use an Analyzer object to determine the relative frequency of jackpots and show your results, comparing the two relative frequencies, in a simple bar chart.\n",
    "A2 = Analyzer(G3)\n",
    "A2.jackpot()\n",
    "fair_jackpot = A2.jackpot()/10000\n",
    "\n",
    "A2 = Analyzer(G4)\n",
    "A2.jackpot()\n",
    "unfair_jackpot = A2.jackpot()/10000\n",
    "\n",
    "objects = [fair_jackpot, unfair_jackpot]\n",
    "y_frequencies = np.arange(len(objects))\n",
    "jackpot_results = [fair_jackpot, unfair_jackpot]\n",
    "\n",
    "plt.bar(y_frequencies, jackpot_results, align='center', alpha=0.5)\n",
    "plt.xticks(y_frequencies, objects)\n",
    "plt.xlabel('Jackpots')\n",
    "plt.ylabel('Frequencies')\n",
    "plt.title('Comparing the two frequencies of jackpot, n = 100000')\n",
    "plt.show()"
   ]
  },
  {
   "cell_type": "code",
   "execution_count": 76,
   "metadata": {},
   "outputs": [
    {
     "data": {
      "text/plain": [
       "<AxesSubplot:xlabel='face_rolled'>"
      ]
     },
     "execution_count": 76,
     "metadata": {},
     "output_type": "execute_result"
    },
    {
     "data": {
      "image/png": "[encoded data removed]",
      "text/plain": [
       "<Figure size 432x288 with 1 Axes>"
      ]
     },
     "metadata": {
      "needs_background": "light"
     },
     "output_type": "display_data"
    }
   ],
   "source": [
    "## 5. Compute 10 most frequent combinations of faces for each game. Plot each of these as bar charts.\n",
    "### Game 3 - fair jackpots\n",
    "A2_G3 = Analyzer(G3)\n",
    "A2_G3.combo()\n",
    "A2_G3.combo_df.sort_values(by = ['count_row'], ascending=False).head(10)\n",
    "\n",
    "df = A2_G3.combo_df.sort_values(by = ['count_row'], ascending=False).head(10)\n",
    "df.plot.bar(x=None, y=None)"
   ]
  },
  {
   "cell_type": "code",
   "execution_count": 77,
   "metadata": {},
   "outputs": [
    {
     "data": {
      "text/plain": [
       "<AxesSubplot:xlabel='face_rolled'>"
      ]
     },
     "execution_count": 77,
     "metadata": {},
     "output_type": "execute_result"
    },
    {
     "data": {
      "image/png": "[encoded data removed]",
      "text/plain": [
       "<Figure size 432x288 with 1 Axes>"
      ]
     },
     "metadata": {
      "needs_background": "light"
     },
     "output_type": "display_data"
    }
   ],
   "source": [
    "### Game 4 - Unfair jackpots\n",
    "A2_G4 = Analyzer(G4)\n",
    "A2_G4.combo()\n",
    "A2_G4.combo_df.sort_values(by = ['count_row'], ascending=False).head(10)\n",
    "\n",
    "df2 = A2_G4.combo_df.sort_values(by = ['count_row'], ascending=False).head(10)\n",
    "df2.plot.bar(x=None, y=None)"
   ]
  },
  {
   "cell_type": "markdown",
   "metadata": {},
   "source": [
    "## Scenario 3: Letters of the Roman Alpha"
   ]
  },
  {
   "cell_type": "code",
   "execution_count": 79,
   "metadata": {},
   "outputs": [
    {
     "name": "stdout",
     "output_type": "stream",
     "text": [
      "a b c d e f g h i j k l m n o p q r s t u v w x y z not valid\n"
     ]
    }
   ],
   "source": [
    "## 1. Create a \"die\" of letters from a to z with weights based on their frequency of usage.\n",
    "import string\n",
    "for letters in string.ascii_lowercase:\n",
    "    print(letters, end=\" \")\n",
    "\n",
    "letters = ['a','b','c','d','e','f','g','h','i','j','k','l','m','n','o','p','q','r','s','t','u','v','w','x','y','z']\n",
    "Lweights = \"./frequency of letters.csv\"\n",
    "die_letters = Die(letters)\n",
    "die_letters.change_weight(letters, Lweights)"
   ]
  },
  {
   "cell_type": "code",
   "execution_count": 80,
   "metadata": {},
   "outputs": [
    {
     "name": "stdout",
     "output_type": "stream",
     "text": [
      "            face_rolled            \n",
      "die_number            1  2  3  4  5\n",
      "roll_number                        \n",
      "1                     a  c  z  u  f\n",
      "2                     w  h  m  v  u\n",
      "3                     a  a  i  o  o\n",
      "4                     n  m  f  n  f\n",
      "5                     w  s  v  p  s\n",
      "...                 ... .. .. .. ..\n",
      "996                   v  w  x  t  l\n",
      "997                   p  v  i  n  y\n",
      "998                   e  a  a  i  p\n",
      "999                   q  v  w  p  p\n",
      "1000                  t  v  n  e  x\n",
      "\n",
      "[1000 rows x 5 columns]\n"
     ]
    }
   ],
   "source": [
    "## 2. Play a game involving 5 of these dice with 1000 rolls\n",
    "S3n = 1000\n",
    "G5 = Game([die_letters, die_letters, die_letters, die_letters, die_letters])\n",
    "G5.play(S3n)\n",
    "FindWords = G5.show('WIDE')\n",
    "print(FindWords)"
   ]
  },
  {
   "cell_type": "code",
   "execution_count": 81,
   "metadata": {},
   "outputs": [],
   "source": [
    "## 3. How many combos can you that look like actual English words?\n",
    "# None found\n",
    "\n",
    "## 4. Based on your eye count, what is the relative frequency of these words versus the rest?\n",
    "# Based on my eye count, the relative frequency of the words vs. the rest is close to zero."
   ]
  },
  {
   "cell_type": "markdown",
   "metadata": {},
   "source": [
    "# Directory Listing\n",
    "\n",
    "A code block that executes the following bash command: \n",
    "\n",
    "```bash\n",
    "!ls -lRF -o\n",
    "```"
   ]
  },
  {
   "cell_type": "code",
   "execution_count": 82,
   "metadata": {},
   "outputs": [
    {
     "name": "stdout",
     "output_type": "stream",
     "text": [
      "../Project_Package/:\n",
      "total 100\n",
      "-rw-r--r-- 1 fju4ek users   263 May  2 23:22 frequency of letters.csv\n",
      "drwxr-sr-x 4 fju4ek users  2048 May  5 20:50 montecarlo\n",
      "-rw-r--r-- 1 fju4ek users 68812 May  5 21:57 montecarlo_demo.ipynb\n",
      "-rw-r--r-- 1 fju4ek users   202 May  5 21:47 montecarlo_results.txt\n",
      "-rw-r--r-- 1 fju4ek users  2992 May  2 20:49 montecarlo_test.py\n",
      "drwxr-sr-x 2 fju4ek users  2560 May  5 19:33 Project_Package.egg-info\n",
      "-rw-r--r-- 1 fju4ek users   349 May  5 19:27 setup.py\n",
      "\n",
      "../Project_Package/montecarlo:\n",
      "total 20\n",
      "-rw-r--r-- 1 fju4ek users  115 May  2 23:29 __init__.py\n",
      "-rw-r--r-- 1 fju4ek users 6494 May  5 20:50 montecarlo.py\n",
      "drwxr-sr-x 2 fju4ek users 1024 May  2 19:57 __pycache__\n",
      "\n",
      "../Project_Package/montecarlo/__pycache__:\n",
      "total 16\n",
      "-rw-r--r-- 1 fju4ek users  248 May  2 19:57 __init__.cpython-38.pyc\n",
      "-rw-r--r-- 1 fju4ek users 4771 May  2 19:57 montecarlo.cpython-38.pyc\n",
      "\n",
      "../Project_Package/Project_Package.egg-info:\n",
      "total 20\n",
      "-rw-r--r-- 1 fju4ek users   1 May  5 19:33 dependency_links.txt\n",
      "-rw-r--r-- 1 fju4ek users 263 May  5 19:33 PKG-INFO\n",
      "-rw-r--r-- 1 fju4ek users   6 May  5 19:33 requires.txt\n",
      "-rw-r--r-- 1 fju4ek users 250 May  5 19:33 SOURCES.txt\n",
      "-rw-r--r-- 1 fju4ek users  11 May  5 19:33 top_level.txt\n"
     ]
    }
   ],
   "source": [
    "!ls -lR ../Project_Package/"
   ]
  },
  {
   "cell_type": "markdown",
   "metadata": {
    "tags": []
   },
   "source": [
    "# Installation Output Listing\n",
    "    \n",
    "A code block that executes the code to install your your package and outputs a successful installation."
   ]
  },
  {
   "cell_type": "code",
   "execution_count": 83,
   "metadata": {},
   "outputs": [
    {
     "name": "stdout",
     "output_type": "stream",
     "text": [
      "from setuptools import setup, find_packages\n",
      "\n",
      "setup(\n",
      "    name='Project_Package',\n",
      "    version='1.0.0',\n",
      "    url='https://github.com/ohashin2G/FinalProject_Montecarlo',\n",
      "    author='Naomi Ohashi',\n",
      "    author_email='ohashin2@gmail.com',\n",
      "    description='Mote Carlo Simulator',\n",
      "    packages=find_packages(),    \n",
      "    install_requires=['click'],\n",
      ")\n"
     ]
    }
   ],
   "source": [
    "print(open('setup.py', 'r').read())"
   ]
  },
  {
   "cell_type": "code",
   "execution_count": 84,
   "metadata": {},
   "outputs": [
    {
     "name": "stdout",
     "output_type": "stream",
     "text": [
      "Defaulting to user installation because normal site-packages is not writeable\n",
      "Obtaining file:///sfs/qumulo/qhome/fju4ek/Documents/MSDS/DS5100/DS5100-2023-01-fju4ek/lessons/M99/Project_Package\n",
      "Requirement already satisfied: click in /sfs/applications/202212/software/standard/core/anaconda/2020.11-py3.8/lib/python3.8/site-packages (from Project-Package==1.0.0) (7.1.2)\n",
      "Installing collected packages: Project-Package\n",
      "  Attempting uninstall: Project-Package\n",
      "    Found existing installation: Project-Package 1.0.0\n",
      "    Uninstalling Project-Package-1.0.0:\n",
      "      Successfully uninstalled Project-Package-1.0.0\n",
      "  Running setup.py develop for Project-Package\n",
      "Successfully installed Project-Package\n",
      "Note: you may need to restart the kernel to use updated packages.\n"
     ]
    }
   ],
   "source": [
    "pip install -e ."
   ]
  },
  {
   "cell_type": "code",
   "execution_count": null,
   "metadata": {},
   "outputs": [],
   "source": []
  }
 ],
 "metadata": {
  "kernelspec": {
   "display_name": "Python 3.8",
   "language": "python",
   "name": "python-3.8"
  },
  "language_info": {
   "codemirror_mode": {
    "name": "ipython",
    "version": 3
   },
   "file_extension": ".py",
   "mimetype": "text/x-python",
   "name": "python",
   "nbconvert_exporter": "python",
   "pygments_lexer": "ipython3",
   "version": "3.8.8"
  },
  "widgets": {
   "application/vnd.jupyter.widget-state+json": {
    "state": {},
    "version_major": 2,
    "version_minor": 0
   }
  }
 },
 "nbformat": 4,
 "nbformat_minor": 5
}
